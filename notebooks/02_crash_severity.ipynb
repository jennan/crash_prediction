{
 "cells": [
  {
   "cell_type": "markdown",
   "metadata": {},
   "source": [
    "# Exploration of the crash severity information in CAS data\n",
    "\n",
    "In this notebook, we will explore the severity of crashes, as it will be the\n",
    "target of our predictive models."
   ]
  },
  {
   "cell_type": "code",
   "execution_count": null,
   "metadata": {},
   "outputs": [],
   "source": [
    "from pathlib import Path"
   ]
  },
  {
   "cell_type": "code",
   "execution_count": null,
   "metadata": {},
   "outputs": [],
   "source": [
    "import numpy as np\n",
    "import pandas as pd\n",
    "import scipy.stats as st\n",
    "import matplotlib.pyplot as plt\n",
    "import seaborn as sb"
   ]
  },
  {
   "cell_type": "code",
   "execution_count": null,
   "metadata": {},
   "outputs": [],
   "source": [
    "from crash_prediction import cas_data"
   ]
  },
  {
   "cell_type": "code",
   "execution_count": null,
   "metadata": {},
   "outputs": [],
   "source": [
    "# set seaborn default style\n",
    "sb.set()"
   ]
  },
  {
   "cell_type": "markdown",
   "metadata": {},
   "source": [
    "But first, we ensure we have the data or download it if needed"
   ]
  },
  {
   "cell_type": "code",
   "execution_count": null,
   "metadata": {},
   "outputs": [],
   "source": [
    "dset_path = Path(\"..\") / \"data\" / \"cas_dataset.csv\"\n",
    "if not dset_path.exists():\n",
    "    dset_path.parent.mkdir(parents=True, exist_ok=True)\n",
    "    cas_data.download(dset_path)"
   ]
  },
  {
   "cell_type": "markdown",
   "metadata": {},
   "source": [
    "and load it."
   ]
  },
  {
   "cell_type": "code",
   "execution_count": null,
   "metadata": {},
   "outputs": [],
   "source": [
    "dset = pd.read_csv(dset_path)\n",
    "dset.head()"
   ]
  },
  {
   "cell_type": "markdown",
   "metadata": {},
   "source": [
    "The CAS dataset has 4 features that can be associated with the crash severity:\n",
    "\n",
    "- `crashSeverity`, severity of a crash, determined by the worst injury\n",
    "   sustained in the crash at time of entry,\n",
    "- `fatalCount`, count of the number of fatal casualties associated with this\n",
    "  crash,\n",
    "- `minorInjuryCount`, count of the number of minor injuries associated with\n",
    "  this crash,\n",
    "- `seriousInjuryCount`, count of the number of serious injuries associated\n",
    "  with this crash."
   ]
  },
  {
   "cell_type": "code",
   "execution_count": null,
   "metadata": {},
   "outputs": [],
   "source": [
    "severity_features = [\n",
    "    \"fatalCount\",\n",
    "    \"seriousInjuryCount\",\n",
    "    \"minorInjuryCount\",\n",
    "    \"crashSeverity\",\n",
    "]"
   ]
  },
  {
   "cell_type": "code",
   "execution_count": null,
   "metadata": {},
   "outputs": [],
   "source": [
    "fig, axes = plt.subplots(2, 2, figsize=(15, 12))\n",
    "for ax, feat in zip(axes.flat, severity_features):\n",
    "    counts = dset[feat].value_counts(dropna=False)\n",
    "    counts.plot.bar(ylabel=\"# crashes\", title=feat, ax=ax)\n",
    "    ax.set(yscale=\"log\")\n",
    "fig.tight_layout()"
   ]
  },
  {
   "cell_type": "markdown",
   "metadata": {},
   "source": [
    "To check the geographical distribution, we will focus on Auckland and replace\n",
    "discrete levels of `crashSeverity` with number to ease plotting."
   ]
  },
  {
   "cell_type": "code",
   "execution_count": null,
   "metadata": {},
   "outputs": [],
   "source": [
    "dset_auckland = dset[dset[\"X\"].between(174.7, 174.9) & dset[\"Y\"].between(-37, -36.8)]"
   ]
  },
  {
   "cell_type": "code",
   "execution_count": null,
   "metadata": {},
   "outputs": [],
   "source": [
    "mapping = {\n",
    "    \"Non-Injury Crash\": 1,\n",
    "    \"Minor Crash\": 2,\n",
    "    \"Serious Crash\": 3,\n",
    "    \"Fatal Crash\": 4,\n",
    "}\n",
    "dset_auckland = dset_auckland.replace({\"crashSeverity\": mapping})"
   ]
  },
  {
   "cell_type": "markdown",
   "metadata": {},
   "source": [
    "Given the data set imbalance, we plot the local maxima to better see the\n",
    "location of more severe car crashes."
   ]
  },
  {
   "cell_type": "code",
   "execution_count": null,
   "metadata": {},
   "outputs": [],
   "source": [
    "fig, axes = plt.subplots(2, 2, figsize=(15, 15))\n",
    "for ax, feat in zip(axes.flat, severity_features):\n",
    "    dset_auckland.plot.hexbin(\n",
    "        \"X\",\n",
    "        \"Y\",\n",
    "        feat,\n",
    "        gridsize=500,\n",
    "        reduce_C_function=np.max,\n",
    "        cmap=\"BuPu\",\n",
    "        title=feat,\n",
    "        ax=ax,\n",
    "        sharex=False,\n",
    "    )\n",
    "    ax.set_xticklabels([])\n",
    "    ax.set_yticklabels([])\n",
    "fig.tight_layout()"
   ]
  },
  {
   "cell_type": "markdown",
   "metadata": {},
   "source": [
    "Few remarks coming from these plots:\n",
    "\n",
    "- fatal counts are (hopefully) very low,\n",
    "- crashes with serious injuries are also very sparse,\n",
    "- crashes with minor injuries are denser and seem to follow major axes,\n",
    "- the crash severity feature looks like the most homogeneous feature, yet\n",
    "  highlighting some roads more than others.\n",
    "\n",
    "The crash severity is probably a good go-to target, as it's quite\n",
    "interpretable and actionable. The corresponding ML problem is a supervised\n",
    "multi-class prediction problem."
   ]
  },
  {
   "cell_type": "markdown",
   "metadata": {},
   "source": [
    "To simplify the problem, we can also just try to predict if a crash is going\n",
    "to involve an injury (minor, severe or fatal) or none. Here is how it would\n",
    "look like in Auckland"
   ]
  },
  {
   "cell_type": "code",
   "execution_count": null,
   "metadata": {},
   "outputs": [],
   "source": [
    "dset_auckland[\"injuryCrash\"] = (dset_auckland[\"crashSeverity\"] > 1) * 1.0\n",
    "dset_auckland.plot.hexbin(\n",
    "    \"X\",\n",
    "    \"Y\",\n",
    "    \"injuryCrash\",\n",
    "    gridsize=500,\n",
    "    cmap=\"BuPu\",\n",
    "    title=\"Crash with injury\",\n",
    "    sharex=False,\n",
    "    figsize=(10, 10),\n",
    ")"
   ]
  },
  {
   "cell_type": "markdown",
   "metadata": {},
   "source": [
    "Interestingly, the major axes do not pop up as saliently here, as we are\n",
    "averaging instead of taking the local maxima."
   ]
  },
  {
   "cell_type": "markdown",
   "metadata": {},
   "source": [
    "This brings us to to the another question: is the fraction of crash with\n",
    "injuries constant fraction of the number of crashes in an area? This would\n",
    "imply that a simple binomial model can model locally binned data."
   ]
  },
  {
   "cell_type": "markdown",
   "metadata": {},
   "source": [
    "We first discretize space into 0.01° wide cells and count the total number of\n",
    "crashes in each cell as well as the number of crashes with injuries."
   ]
  },
  {
   "cell_type": "code",
   "execution_count": null,
   "metadata": {},
   "outputs": [],
   "source": [
    "dset[\"X_bin\"] = pd.cut(\n",
    "    dset[\"X\"], pd.interval_range(dset.X.min(), dset.X.max(), freq=0.01)\n",
    ")\n",
    "dset[\"Y_bin\"] = pd.cut(\n",
    "    dset[\"Y\"], pd.interval_range(dset.Y.min(), dset.Y.max(), freq=0.01)\n",
    ")\n",
    "\n",
    "counts = (\n",
    "    dset.groupby([\"X_bin\", \"Y_bin\"], observed=True).size().reset_index(name=\"crash\")\n",
    ")\n",
    "\n",
    "injury_counts = (\n",
    "    dset.groupby([\"X_bin\", \"Y_bin\"], observed=True)\n",
    "    .apply(lambda x: (x[\"crashSeverity\"] != \"Non-Injury Crash\").sum())\n",
    "    .reset_index(name=\"injury\")\n",
    ")\n",
    "\n",
    "counts = counts.merge(injury_counts)"
   ]
  },
  {
   "cell_type": "markdown",
   "metadata": {},
   "source": [
    "For each number of crashes in cells, we can check the fraction of crashes with\n",
    "injuries. Here we see that cells with 1 or few crashes have a nearly 50/50\n",
    "chance of injuries, compared to cells with a larger number of accidents, where\n",
    "it goes down to about 20%."
   ]
  },
  {
   "cell_type": "code",
   "execution_count": null,
   "metadata": {},
   "outputs": [],
   "source": [
    "injury_fraction = counts.groupby(\"crash\").apply(\n",
    "    lambda x: x[\"injury\"].sum() / x[\"crash\"].sum()\n",
    ")\n",
    "ax = injury_fraction.plot(style=\".\", ylabel=\"fraction of injuries\", figsize=(10, 7))\n",
    "ax.set_xscale(\"log\")"
   ]
  },
  {
   "cell_type": "markdown",
   "metadata": {},
   "source": [
    "Then we can also check how good is a binomial distribution at modeling binned\n",
    "data, using it to derive a 95% predictive interval."
   ]
  },
  {
   "cell_type": "code",
   "execution_count": null,
   "metadata": {},
   "outputs": [],
   "source": [
    "ratio = counts[\"injury\"].sum() / counts[\"crash\"].sum()\n",
    "xs = np.arange(1, counts[\"crash\"].max() + 1)\n",
    "pred_intervals = st.binom(xs, ratio).ppf([[0.025], [0.975]])"
   ]
  },
  {
   "cell_type": "code",
   "execution_count": null,
   "metadata": {},
   "outputs": [],
   "source": [
    "fig, axes = plt.subplots(1, 2, figsize=(15, 7))\n",
    "\n",
    "counts.plot.scatter(x=\"crash\", y=\"injury\", alpha=0.3, c=\"b\", s=2, ax=axes[0])\n",
    "axes[0].fill_between(\n",
    "    xs,\n",
    "    pred_intervals[0],\n",
    "    pred_intervals[1],\n",
    "    alpha=0.3,\n",
    "    color=\"r\",\n",
    "    label=\"95% equal-tail interval for binomial\",\n",
    ")\n",
    "axes[0].legend()\n",
    "\n",
    "counts.plot.scatter(x=\"crash\", y=\"injury\", alpha=0.3, c=\"b\", s=2, ax=axes[1])\n",
    "axes[1].fill_between(\n",
    "    xs,\n",
    "    pred_intervals[0],\n",
    "    pred_intervals[1],\n",
    "    alpha=0.3,\n",
    "    color=\"r\",\n",
    "    label=\"95% equal-tail interval for binomial\",\n",
    ")\n",
    "axes[1].legend()\n",
    "axes[1].set_xscale(\"log\")\n",
    "axes[1].set_yscale(\"log\")"
   ]
  },
  {
   "cell_type": "markdown",
   "metadata": {},
   "source": [
    "The predictive interval seems to have a poor coverage, overshooting the high\n",
    "counts regions and being to narrow for the regions with hundreds of crashes.\n",
    "We can compute the empirical coverage of these interval to check this."
   ]
  },
  {
   "cell_type": "code",
   "execution_count": null,
   "metadata": {},
   "outputs": [],
   "source": [
    "counts[\"covered\"] = counts[\"injury\"].between(\n",
    "    pred_intervals[0, counts[\"crash\"] - 1], pred_intervals[1, counts[\"crash\"] - 1]\n",
    ")\n",
    "print(f\"95% predictive interval has {counts['covered'].mean() * 100:.2f}%.\")"
   ]
  },
  {
   "cell_type": "code",
   "execution_count": null,
   "metadata": {},
   "outputs": [],
   "source": [
    "print(\"95% predictive interval coverage per quartile of crash counts:\")\n",
    "mask = counts[\"crash\"] > 1\n",
    "counts[mask].groupby(pd.qcut(counts.loc[mask, \"crash\"], 4))[\"covered\"].mean()"
   ]
  },
  {
   "cell_type": "markdown",
   "metadata": {},
   "source": [
    "So it turns out that on a macro scale, the coverage of this simple model is\n",
    "quite good, but if we split by number of crashes, the coverage isn't so good\n",
    "anymore for the cells with higher number of crashes.\n",
    "\n",
    "Hence, including the number of crashes in a vicinity could be an relevant\n",
    "predictor for the probability of crash with injury."
   ]
  },
  {
   "cell_type": "markdown",
   "metadata": {},
   "source": [
    "---\n",
    "## Original computing environment"
   ]
  },
  {
   "cell_type": "code",
   "execution_count": null,
   "metadata": {},
   "outputs": [],
   "source": [
    "!date -R"
   ]
  },
  {
   "cell_type": "code",
   "execution_count": null,
   "metadata": {},
   "outputs": [],
   "source": [
    "!uname -a"
   ]
  },
  {
   "cell_type": "code",
   "execution_count": null,
   "metadata": {},
   "outputs": [],
   "source": [
    "!pip freeze"
   ]
  }
 ],
 "metadata": {
  "jupytext": {
   "cell_metadata_filter": "-all",
   "main_language": "python",
   "notebook_metadata_filter": "-all"
  }
 },
 "nbformat": 4,
 "nbformat_minor": 4
}
