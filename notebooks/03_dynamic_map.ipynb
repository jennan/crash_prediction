{
 "cells": [
  {
   "cell_type": "markdown",
   "metadata": {},
   "source": [
    "# Testing dynamic map display\n",
    "\n",
    "Here we try some dynamic display of all the data points, using [hvplot](https://hvplot.holoviz.org)."
   ]
  },
  {
   "cell_type": "code",
   "execution_count": null,
   "metadata": {},
   "outputs": [],
   "source": [
    "from pathlib import Path"
   ]
  },
  {
   "cell_type": "code",
   "execution_count": null,
   "metadata": {},
   "outputs": [],
   "source": [
    "import pandas as pd\n",
    "import hvplot\n",
    "import hvplot.pandas  # noqa"
   ]
  },
  {
   "cell_type": "markdown",
   "metadata": {},
   "source": [
    "First we load the data and binarize the accident severity."
   ]
  },
  {
   "cell_type": "code",
   "execution_count": null,
   "metadata": {},
   "outputs": [],
   "source": [
    "dset_path = Path(\"..\") / \"data\" / \"cas_dataset.csv\"\n",
    "dset = pd.read_csv(dset_path)\n",
    "dset[\"badCrash\"] = (dset[\"crashSeverity\"] != \"Non-Injury Crash\") * 1.0"
   ]
  },
  {
   "cell_type": "markdown",
   "metadata": {},
   "source": [
    "We exclude Chatham islands to simplify map display. [Datashader](https://datashader.org/)\n",
    "is enabled to dynamically aggregate data for display purpose when zooming in\n",
    "and out."
   ]
  },
  {
   "cell_type": "code",
   "execution_count": null,
   "metadata": {},
   "outputs": [],
   "source": [
    "dset[dset.X > 0].hvplot.points(\n",
    "    \"X\",\n",
    "    \"Y\",\n",
    "    c=\"badCrash\",\n",
    "    datashade=True,\n",
    "    dynspread=True,\n",
    "    cmap=\"fire\",\n",
    "    geo=True,\n",
    "    tiles=\"CartoLight\",\n",
    "    frame_width=600,\n",
    "    frame_height=600,\n",
    ")"
   ]
  }
 ],
 "metadata": {
  "jupytext": {
   "cell_metadata_filter": "-all",
   "main_language": "python",
   "notebook_metadata_filter": "-all"
  }
 },
 "nbformat": 4,
 "nbformat_minor": 4
}
